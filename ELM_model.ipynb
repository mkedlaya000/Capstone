{
 "cells": [
  {
   "cell_type": "code",
   "execution_count": 2,
   "id": "b8fe5217",
   "metadata": {},
   "outputs": [],
   "source": [
    "import pandas as pd\n",
    "import sklearn\n",
    "import numpy as np\n",
    "import matplotlib.pyplot as plt"
   ]
  },
  {
   "cell_type": "code",
   "execution_count": 3,
   "id": "e23b93cd",
   "metadata": {},
   "outputs": [],
   "source": [
    "df=pd.read_csv('data.csv')"
   ]
  },
  {
   "cell_type": "code",
   "execution_count": 4,
   "id": "a8b72ba6",
   "metadata": {},
   "outputs": [
    {
     "data": {
      "text/plain": [
       "id                             int64\n",
       "having_IP_Address              int64\n",
       "URL_Length                     int64\n",
       "Shortining_Service             int64\n",
       "having_At_Symbol               int64\n",
       "double_slash_redirecting       int64\n",
       "Prefix_Suffix                  int64\n",
       "having_Sub_Domain              int64\n",
       "SSLfinal_State                 int64\n",
       "Domain_registeration_length    int64\n",
       "Favicon                        int64\n",
       "port                           int64\n",
       "HTTPS_token                    int64\n",
       "Request_URL                    int64\n",
       "URL_of_Anchor                  int64\n",
       "Links_in_tags                  int64\n",
       "SFH                            int64\n",
       "Submitting_to_email            int64\n",
       "Abnormal_URL                   int64\n",
       "Redirect                       int64\n",
       "on_mouseover                   int64\n",
       "RightClick                     int64\n",
       "popUpWidnow                    int64\n",
       "Iframe                         int64\n",
       "age_of_domain                  int64\n",
       "DNSRecord                      int64\n",
       "web_traffic                    int64\n",
       "Page_Rank                      int64\n",
       "Google_Index                   int64\n",
       "Links_pointing_to_page         int64\n",
       "Statistical_report             int64\n",
       "Result                         int64\n",
       "dtype: object"
      ]
     },
     "execution_count": 4,
     "metadata": {},
     "output_type": "execute_result"
    }
   ],
   "source": [
    "df.dtypes"
   ]
  },
  {
   "cell_type": "code",
   "execution_count": 5,
   "id": "d350e9c4",
   "metadata": {},
   "outputs": [
    {
     "data": {
      "text/plain": [
       "Index(['id', 'having_IP_Address', 'URL_Length', 'Shortining_Service',\n",
       "       'having_At_Symbol', 'double_slash_redirecting', 'Prefix_Suffix',\n",
       "       'having_Sub_Domain', 'SSLfinal_State', 'Domain_registeration_length',\n",
       "       'Favicon', 'port', 'HTTPS_token', 'Request_URL', 'URL_of_Anchor',\n",
       "       'Links_in_tags', 'SFH', 'Submitting_to_email', 'Abnormal_URL',\n",
       "       'Redirect', 'on_mouseover', 'RightClick', 'popUpWidnow', 'Iframe',\n",
       "       'age_of_domain', 'DNSRecord', 'web_traffic', 'Page_Rank',\n",
       "       'Google_Index', 'Links_pointing_to_page', 'Statistical_report',\n",
       "       'Result'],\n",
       "      dtype='object')"
      ]
     },
     "execution_count": 5,
     "metadata": {},
     "output_type": "execute_result"
    }
   ],
   "source": [
    "df.columns"
   ]
  },
  {
   "cell_type": "code",
   "execution_count": 6,
   "id": "8fda6291",
   "metadata": {},
   "outputs": [],
   "source": [
    "df.drop('SSLfinal_State',\n",
    "axis='columns', inplace=True)"
   ]
  },
  {
   "cell_type": "code",
   "execution_count": 7,
   "id": "e1c193a9",
   "metadata": {},
   "outputs": [],
   "source": [
    "df.drop('Abnormal_URL',\n",
    "axis='columns', inplace=True)"
   ]
  },
  {
   "cell_type": "code",
   "execution_count": 8,
   "id": "22117c32",
   "metadata": {},
   "outputs": [],
   "source": [
    "df.drop('Redirect',\n",
    "axis='columns', inplace=True)"
   ]
  },
  {
   "cell_type": "code",
   "execution_count": 9,
   "id": "7b2aa42f",
   "metadata": {},
   "outputs": [],
   "source": [
    "df.drop('RightClick',\n",
    "axis='columns', inplace=True)\n",
    "df.drop('popUpWidnow',\n",
    "axis='columns', inplace=True)\n",
    "df.drop('port',\n",
    "axis='columns', inplace=True)\n",
    "df.drop('id',\n",
    "axis='columns', inplace=True)\n",
    "df.drop('DNSRecord',\n",
    "axis='columns', inplace=True)\n",
    "df.drop('web_traffic',\n",
    "axis='columns', inplace=True)\n",
    "df.drop('Page_Rank',\n",
    "axis='columns', inplace=True)\n",
    "df.drop('Google_Index',\n",
    "axis='columns', inplace=True)\n",
    "df.drop('Links_pointing_to_page',\n",
    "axis='columns', inplace=True)\n",
    "df.drop('Statistical_report',\n",
    "axis='columns', inplace=True)"
   ]
  },
  {
   "cell_type": "code",
   "execution_count": 10,
   "id": "b26ce775",
   "metadata": {},
   "outputs": [
    {
     "data": {
      "text/plain": [
       "Index(['having_IP_Address', 'URL_Length', 'Shortining_Service',\n",
       "       'having_At_Symbol', 'double_slash_redirecting', 'Prefix_Suffix',\n",
       "       'having_Sub_Domain', 'Domain_registeration_length', 'Favicon',\n",
       "       'HTTPS_token', 'Request_URL', 'URL_of_Anchor', 'Links_in_tags', 'SFH',\n",
       "       'Submitting_to_email', 'on_mouseover', 'Iframe', 'age_of_domain',\n",
       "       'Result'],\n",
       "      dtype='object')"
      ]
     },
     "execution_count": 10,
     "metadata": {},
     "output_type": "execute_result"
    }
   ],
   "source": [
    "df.columns"
   ]
  },
  {
   "cell_type": "code",
   "execution_count": 11,
   "id": "1b7b83a7",
   "metadata": {},
   "outputs": [
    {
     "name": "stdout",
     "output_type": "stream",
     "text": [
      "[0.02370809 0.01912501 0.0151786  0.01250333 0.01233655 0.09366493\n",
      " 0.0957063  0.02746057 0.01627061 0.01297014 0.03885918 0.46133925\n",
      " 0.06706483 0.04617495 0.01365135 0.01139122 0.00850324 0.02409185]\n"
     ]
    },
    {
     "data": {
      "image/png": "[encoded data removed]",
      "text/plain": [
       "<Figure size 432x288 with 1 Axes>"
      ]
     },
     "metadata": {
      "needs_background": "light"
     },
     "output_type": "display_data"
    }
   ],
   "source": [
    "X = df.iloc[:,0:18]  #independent columns\n",
    "Y = df.iloc[:,-1]    #target column i.e price range\n",
    "from sklearn.ensemble import ExtraTreesClassifier\n",
    "import matplotlib.pyplot as plt\n",
    "model = ExtraTreesClassifier()\n",
    "model.fit(X,Y)\n",
    "print(model.feature_importances_) #use inbuilt class feature_importances of tree based classifiers\n",
    "#plot graph of feature importances for better visualization\n",
    "feat_importances = pd.Series(model.feature_importances_, index=X.columns)\n",
    "feat_importances.nlargest(19).plot(kind='barh')\n",
    "plt.show()"
   ]
  },
  {
   "cell_type": "code",
   "execution_count": 12,
   "id": "d636c265",
   "metadata": {},
   "outputs": [],
   "source": [
    "class ELM(object):  \n",
    "    \n",
    "    def __init__(self, inputSize, outputSize, hiddenSize):\n",
    "        \"\"\"\n",
    "        Initialize weight and bias between input layer and hidden layer\n",
    "        Parameters:\n",
    "        inputSize: int\n",
    "            The number of input layer dimensions or features in the training data\n",
    "        outputSize: int\n",
    "            The number of output layer dimensions\n",
    "        hiddenSize: int\n",
    "            The number of hidden layer dimensions        \n",
    "        \"\"\"    \n",
    "\n",
    "        self.inputSize = inputSize\n",
    "        self.outputSize = outputSize\n",
    "        self.hiddenSize = hiddenSize       \n",
    "        \n",
    "        # Initialize random weight with range [-0.5, 0.5]\n",
    "        self.weight = np.matrix(np.random.uniform(-0.5, 0.5, (self.hiddenSize, self.inputSize)))\n",
    "\n",
    "        # Initialize random bias with range [0, 1]\n",
    "        self.bias = np.matrix(np.random.uniform(0, 1, (1, self.hiddenSize)))\n",
    "        \n",
    "        self.H = 0\n",
    "        self.beta = 0\n",
    "\n",
    "    def sigmoid(self, x):\n",
    "        \"\"\"\n",
    "        Sigmoid activation function\n",
    "        \n",
    "        Parameters:\n",
    "        x: array-like or matrix\n",
    "            The value that the activation output will look for\n",
    "        Returns:      \n",
    "            The results of activation using sigmoid function\n",
    "        \"\"\"\n",
    "        return 1 / (1 + np.exp(-1 * x))\n",
    "\n",
    "    def predict(self, X):\n",
    "        \"\"\"\n",
    "        Predict the results of the training process using test data\n",
    "        Parameters:\n",
    "        X: array-like or matrix\n",
    "            Test data that will be used to determine output using ELM\n",
    "        Returns:\n",
    "            Predicted results or outputs from test data\n",
    "        \"\"\"\n",
    "        X = np.matrix(X)\n",
    "        y = self.sigmoid((X * self.weight.T) + self.bias) * self.beta\n",
    "\n",
    "        return y\n",
    "\n",
    "    def train(self, X, y):\n",
    "        \"\"\"\n",
    "        Extreme Learning Machine training process\n",
    "        Parameters:\n",
    "        X: array-like or matrix\n",
    "            Training data that contains the value of each feature\n",
    "        y: array-like or matrix\n",
    "            Training data that contains the value of the target (class)\n",
    "        Returns:\n",
    "            The results of the training process   \n",
    "        \"\"\"\n",
    "        X = np.matrix(X)\n",
    "        y = np.matrix(y).reshape(-1,1) \n",
    "        # Calculate hidden layer output matrix (Hinit)\n",
    "        self.H = (X * self.weight.T) + self.bias\n",
    "\n",
    "        # Sigmoid activation function\n",
    "        self.H = self.sigmoid(self.H)\n",
    "\n",
    "        # Calculate the Moore-Penrose pseudoinverse matrix        \n",
    "        H_moore_penrose = np.linalg.inv(self.H.T * self.H) * self.H.T\n",
    "\n",
    "        # Calculate the output weight matrix beta\n",
    "        self.beta = H_moore_penrose * y\n",
    "\n",
    "        return self.H * self.beta"
   ]
  },
  {
   "cell_type": "code",
   "execution_count": 13,
   "id": "41602711",
   "metadata": {},
   "outputs": [],
   "source": [
    "from sklearn import datasets\n",
    "from sklearn.model_selection import train_test_split\n",
    "from sklearn.metrics import accuracy_score\n",
    "\n",
    "# Create random classification datasets with 1000 samples\n",
    "\n",
    "# Create instance of ELM object with 10 hidden neuron\n",
    "#df['Result']"
   ]
  },
  {
   "cell_type": "code",
   "execution_count": 14,
   "id": "68857216",
   "metadata": {},
   "outputs": [
    {
     "data": {
      "text/html": [
       "<div>\n",
       "<style scoped>\n",
       "    .dataframe tbody tr th:only-of-type {\n",
       "        vertical-align: middle;\n",
       "    }\n",
       "\n",
       "    .dataframe tbody tr th {\n",
       "        vertical-align: top;\n",
       "    }\n",
       "\n",
       "    .dataframe thead th {\n",
       "        text-align: right;\n",
       "    }\n",
       "</style>\n",
       "<table border=\"1\" class=\"dataframe\">\n",
       "  <thead>\n",
       "    <tr style=\"text-align: right;\">\n",
       "      <th></th>\n",
       "      <th>having_IP_Address</th>\n",
       "      <th>URL_Length</th>\n",
       "      <th>Shortining_Service</th>\n",
       "      <th>having_At_Symbol</th>\n",
       "      <th>double_slash_redirecting</th>\n",
       "      <th>Prefix_Suffix</th>\n",
       "      <th>having_Sub_Domain</th>\n",
       "      <th>Domain_registeration_length</th>\n",
       "      <th>Favicon</th>\n",
       "      <th>HTTPS_token</th>\n",
       "      <th>Request_URL</th>\n",
       "      <th>URL_of_Anchor</th>\n",
       "      <th>Links_in_tags</th>\n",
       "      <th>SFH</th>\n",
       "      <th>Submitting_to_email</th>\n",
       "      <th>on_mouseover</th>\n",
       "      <th>Iframe</th>\n",
       "      <th>age_of_domain</th>\n",
       "      <th>Result</th>\n",
       "    </tr>\n",
       "  </thead>\n",
       "  <tbody>\n",
       "    <tr>\n",
       "      <th>0</th>\n",
       "      <td>-1</td>\n",
       "      <td>1</td>\n",
       "      <td>1</td>\n",
       "      <td>1</td>\n",
       "      <td>-1</td>\n",
       "      <td>-1</td>\n",
       "      <td>-1</td>\n",
       "      <td>-1</td>\n",
       "      <td>1</td>\n",
       "      <td>-1</td>\n",
       "      <td>1</td>\n",
       "      <td>-1</td>\n",
       "      <td>1</td>\n",
       "      <td>-1</td>\n",
       "      <td>-1</td>\n",
       "      <td>1</td>\n",
       "      <td>1</td>\n",
       "      <td>-1</td>\n",
       "      <td>-1</td>\n",
       "    </tr>\n",
       "    <tr>\n",
       "      <th>1</th>\n",
       "      <td>1</td>\n",
       "      <td>1</td>\n",
       "      <td>1</td>\n",
       "      <td>1</td>\n",
       "      <td>1</td>\n",
       "      <td>-1</td>\n",
       "      <td>0</td>\n",
       "      <td>-1</td>\n",
       "      <td>1</td>\n",
       "      <td>-1</td>\n",
       "      <td>1</td>\n",
       "      <td>0</td>\n",
       "      <td>-1</td>\n",
       "      <td>-1</td>\n",
       "      <td>1</td>\n",
       "      <td>1</td>\n",
       "      <td>1</td>\n",
       "      <td>-1</td>\n",
       "      <td>-1</td>\n",
       "    </tr>\n",
       "    <tr>\n",
       "      <th>2</th>\n",
       "      <td>1</td>\n",
       "      <td>0</td>\n",
       "      <td>1</td>\n",
       "      <td>1</td>\n",
       "      <td>1</td>\n",
       "      <td>-1</td>\n",
       "      <td>-1</td>\n",
       "      <td>-1</td>\n",
       "      <td>1</td>\n",
       "      <td>-1</td>\n",
       "      <td>1</td>\n",
       "      <td>0</td>\n",
       "      <td>-1</td>\n",
       "      <td>-1</td>\n",
       "      <td>-1</td>\n",
       "      <td>1</td>\n",
       "      <td>1</td>\n",
       "      <td>1</td>\n",
       "      <td>-1</td>\n",
       "    </tr>\n",
       "    <tr>\n",
       "      <th>3</th>\n",
       "      <td>1</td>\n",
       "      <td>0</td>\n",
       "      <td>1</td>\n",
       "      <td>1</td>\n",
       "      <td>1</td>\n",
       "      <td>-1</td>\n",
       "      <td>-1</td>\n",
       "      <td>1</td>\n",
       "      <td>1</td>\n",
       "      <td>-1</td>\n",
       "      <td>-1</td>\n",
       "      <td>0</td>\n",
       "      <td>0</td>\n",
       "      <td>-1</td>\n",
       "      <td>1</td>\n",
       "      <td>1</td>\n",
       "      <td>1</td>\n",
       "      <td>-1</td>\n",
       "      <td>-1</td>\n",
       "    </tr>\n",
       "    <tr>\n",
       "      <th>4</th>\n",
       "      <td>1</td>\n",
       "      <td>0</td>\n",
       "      <td>-1</td>\n",
       "      <td>1</td>\n",
       "      <td>1</td>\n",
       "      <td>-1</td>\n",
       "      <td>1</td>\n",
       "      <td>-1</td>\n",
       "      <td>1</td>\n",
       "      <td>1</td>\n",
       "      <td>1</td>\n",
       "      <td>0</td>\n",
       "      <td>0</td>\n",
       "      <td>-1</td>\n",
       "      <td>1</td>\n",
       "      <td>-1</td>\n",
       "      <td>1</td>\n",
       "      <td>-1</td>\n",
       "      <td>1</td>\n",
       "    </tr>\n",
       "    <tr>\n",
       "      <th>...</th>\n",
       "      <td>...</td>\n",
       "      <td>...</td>\n",
       "      <td>...</td>\n",
       "      <td>...</td>\n",
       "      <td>...</td>\n",
       "      <td>...</td>\n",
       "      <td>...</td>\n",
       "      <td>...</td>\n",
       "      <td>...</td>\n",
       "      <td>...</td>\n",
       "      <td>...</td>\n",
       "      <td>...</td>\n",
       "      <td>...</td>\n",
       "      <td>...</td>\n",
       "      <td>...</td>\n",
       "      <td>...</td>\n",
       "      <td>...</td>\n",
       "      <td>...</td>\n",
       "      <td>...</td>\n",
       "    </tr>\n",
       "    <tr>\n",
       "      <th>11050</th>\n",
       "      <td>1</td>\n",
       "      <td>-1</td>\n",
       "      <td>1</td>\n",
       "      <td>-1</td>\n",
       "      <td>1</td>\n",
       "      <td>1</td>\n",
       "      <td>1</td>\n",
       "      <td>-1</td>\n",
       "      <td>-1</td>\n",
       "      <td>1</td>\n",
       "      <td>1</td>\n",
       "      <td>1</td>\n",
       "      <td>1</td>\n",
       "      <td>-1</td>\n",
       "      <td>-1</td>\n",
       "      <td>-1</td>\n",
       "      <td>-1</td>\n",
       "      <td>1</td>\n",
       "      <td>1</td>\n",
       "    </tr>\n",
       "    <tr>\n",
       "      <th>11051</th>\n",
       "      <td>-1</td>\n",
       "      <td>1</td>\n",
       "      <td>1</td>\n",
       "      <td>-1</td>\n",
       "      <td>-1</td>\n",
       "      <td>-1</td>\n",
       "      <td>1</td>\n",
       "      <td>-1</td>\n",
       "      <td>-1</td>\n",
       "      <td>1</td>\n",
       "      <td>1</td>\n",
       "      <td>-1</td>\n",
       "      <td>-1</td>\n",
       "      <td>0</td>\n",
       "      <td>-1</td>\n",
       "      <td>-1</td>\n",
       "      <td>1</td>\n",
       "      <td>1</td>\n",
       "      <td>-1</td>\n",
       "    </tr>\n",
       "    <tr>\n",
       "      <th>11052</th>\n",
       "      <td>1</td>\n",
       "      <td>-1</td>\n",
       "      <td>1</td>\n",
       "      <td>1</td>\n",
       "      <td>1</td>\n",
       "      <td>-1</td>\n",
       "      <td>1</td>\n",
       "      <td>-1</td>\n",
       "      <td>1</td>\n",
       "      <td>1</td>\n",
       "      <td>1</td>\n",
       "      <td>0</td>\n",
       "      <td>-1</td>\n",
       "      <td>-1</td>\n",
       "      <td>1</td>\n",
       "      <td>1</td>\n",
       "      <td>1</td>\n",
       "      <td>1</td>\n",
       "      <td>-1</td>\n",
       "    </tr>\n",
       "    <tr>\n",
       "      <th>11053</th>\n",
       "      <td>-1</td>\n",
       "      <td>-1</td>\n",
       "      <td>1</td>\n",
       "      <td>1</td>\n",
       "      <td>1</td>\n",
       "      <td>-1</td>\n",
       "      <td>-1</td>\n",
       "      <td>1</td>\n",
       "      <td>-1</td>\n",
       "      <td>1</td>\n",
       "      <td>-1</td>\n",
       "      <td>-1</td>\n",
       "      <td>1</td>\n",
       "      <td>-1</td>\n",
       "      <td>1</td>\n",
       "      <td>-1</td>\n",
       "      <td>1</td>\n",
       "      <td>1</td>\n",
       "      <td>-1</td>\n",
       "    </tr>\n",
       "    <tr>\n",
       "      <th>11054</th>\n",
       "      <td>-1</td>\n",
       "      <td>-1</td>\n",
       "      <td>1</td>\n",
       "      <td>1</td>\n",
       "      <td>1</td>\n",
       "      <td>-1</td>\n",
       "      <td>-1</td>\n",
       "      <td>1</td>\n",
       "      <td>1</td>\n",
       "      <td>1</td>\n",
       "      <td>-1</td>\n",
       "      <td>-1</td>\n",
       "      <td>0</td>\n",
       "      <td>-1</td>\n",
       "      <td>1</td>\n",
       "      <td>1</td>\n",
       "      <td>1</td>\n",
       "      <td>-1</td>\n",
       "      <td>-1</td>\n",
       "    </tr>\n",
       "  </tbody>\n",
       "</table>\n",
       "<p>11055 rows × 19 columns</p>\n",
       "</div>"
      ],
      "text/plain": [
       "       having_IP_Address  URL_Length  Shortining_Service  having_At_Symbol  \\\n",
       "0                     -1           1                   1                 1   \n",
       "1                      1           1                   1                 1   \n",
       "2                      1           0                   1                 1   \n",
       "3                      1           0                   1                 1   \n",
       "4                      1           0                  -1                 1   \n",
       "...                  ...         ...                 ...               ...   \n",
       "11050                  1          -1                   1                -1   \n",
       "11051                 -1           1                   1                -1   \n",
       "11052                  1          -1                   1                 1   \n",
       "11053                 -1          -1                   1                 1   \n",
       "11054                 -1          -1                   1                 1   \n",
       "\n",
       "       double_slash_redirecting  Prefix_Suffix  having_Sub_Domain  \\\n",
       "0                            -1             -1                 -1   \n",
       "1                             1             -1                  0   \n",
       "2                             1             -1                 -1   \n",
       "3                             1             -1                 -1   \n",
       "4                             1             -1                  1   \n",
       "...                         ...            ...                ...   \n",
       "11050                         1              1                  1   \n",
       "11051                        -1             -1                  1   \n",
       "11052                         1             -1                  1   \n",
       "11053                         1             -1                 -1   \n",
       "11054                         1             -1                 -1   \n",
       "\n",
       "       Domain_registeration_length  Favicon  HTTPS_token  Request_URL  \\\n",
       "0                               -1        1           -1            1   \n",
       "1                               -1        1           -1            1   \n",
       "2                               -1        1           -1            1   \n",
       "3                                1        1           -1           -1   \n",
       "4                               -1        1            1            1   \n",
       "...                            ...      ...          ...          ...   \n",
       "11050                           -1       -1            1            1   \n",
       "11051                           -1       -1            1            1   \n",
       "11052                           -1        1            1            1   \n",
       "11053                            1       -1            1           -1   \n",
       "11054                            1        1            1           -1   \n",
       "\n",
       "       URL_of_Anchor  Links_in_tags  SFH  Submitting_to_email  on_mouseover  \\\n",
       "0                 -1              1   -1                   -1             1   \n",
       "1                  0             -1   -1                    1             1   \n",
       "2                  0             -1   -1                   -1             1   \n",
       "3                  0              0   -1                    1             1   \n",
       "4                  0              0   -1                    1            -1   \n",
       "...              ...            ...  ...                  ...           ...   \n",
       "11050              1              1   -1                   -1            -1   \n",
       "11051             -1             -1    0                   -1            -1   \n",
       "11052              0             -1   -1                    1             1   \n",
       "11053             -1              1   -1                    1            -1   \n",
       "11054             -1              0   -1                    1             1   \n",
       "\n",
       "       Iframe  age_of_domain  Result  \n",
       "0           1             -1      -1  \n",
       "1           1             -1      -1  \n",
       "2           1              1      -1  \n",
       "3           1             -1      -1  \n",
       "4           1             -1       1  \n",
       "...       ...            ...     ...  \n",
       "11050      -1              1       1  \n",
       "11051       1              1      -1  \n",
       "11052       1              1      -1  \n",
       "11053       1              1      -1  \n",
       "11054       1             -1      -1  \n",
       "\n",
       "[11055 rows x 19 columns]"
      ]
     },
     "execution_count": 14,
     "metadata": {},
     "output_type": "execute_result"
    }
   ],
   "source": [
    "k=df['Result']\n",
    "l=[]\n",
    "for i in k:\n",
    "    l.append(i)\n",
    "df1=df\n",
    "df1"
   ]
  },
  {
   "cell_type": "code",
   "execution_count": 15,
   "id": "94bb21b3",
   "metadata": {},
   "outputs": [],
   "source": [
    "df1.drop('Result',\n",
    "axis='columns', inplace=True)"
   ]
  },
  {
   "cell_type": "code",
   "execution_count": 16,
   "id": "bf456258",
   "metadata": {},
   "outputs": [
    {
     "name": "stdout",
     "output_type": "stream",
     "text": [
      "Number of Neurons:  100  Train Accuracy:  0.8883989145183175  Test Accuracy:  0.879692446856626\n",
      "Number of Neurons:  200  Train Accuracy:  0.8976707372229761  Test Accuracy:  0.8964269561284487\n",
      "Number of Neurons:  300  Train Accuracy:  0.9047942107643601  Test Accuracy:  0.9054726368159204\n",
      "Number of Neurons:  400  Train Accuracy:  0.9076209859791949  Test Accuracy:  0.8946178199909544\n",
      "Number of Neurons:  500  Train Accuracy:  0.9104477611940298  Test Accuracy:  0.9072817729534147\n",
      "Number of Neurons:  600  Train Accuracy:  0.9129353233830846  Test Accuracy:  0.9032112166440525\n",
      "Number of Neurons:  700  Train Accuracy:  0.9165535956580733  Test Accuracy:  0.9045680687471732\n",
      "Number of Neurons:  800  Train Accuracy:  0.9202849389416553  Test Accuracy:  0.9045680687471732\n",
      "Number of Neurons:  900  Train Accuracy:  0.9202849389416553  Test Accuracy:  0.8991406603346902\n",
      "Number of Neurons:  1000  Train Accuracy:  0.9175712347354138  Test Accuracy:  0.9099954771596562\n",
      "Number of Neurons:  1200  Train Accuracy:  0.9215287200361827  Test Accuracy:  0.9104477611940298\n",
      "Number of Neurons:  1500  Train Accuracy:  0.9254862053369516  Test Accuracy:  0.9176843057440073\n",
      "Number of Neurons:  2000  Train Accuracy:  0.9330619629127092  Test Accuracy:  0.8887381275440976\n",
      "Number of Neurons:  2500  Train Accuracy:  0.9357756671189507  Test Accuracy:  0.8701944821347807\n"
     ]
    }
   ],
   "source": [
    "from sklearn import datasets\n",
    "from sklearn.model_selection import train_test_split\n",
    "from sklearn.metrics import accuracy_score\n",
    "\n",
    "\n",
    "# Create random classification datasets with 1000 samples\n",
    "num_neurons=[100,200,300,400,500,600,700,800,900,1000,1200,1500,2000,2500]\n",
    "errors=np.zeros((2,len(num_neurons)))\n",
    "# Create instance of ELM object with 10 hidden neuron\n",
    "for i in range(len(num_neurons)):\n",
    "    elm = ELM(18, 1, num_neurons[i])\n",
    "\n",
    "    # Train test split 80:20\n",
    "    X_train, X_test, y_train, y_test = train_test_split(df1, l, test_size=0.2)\n",
    "\n",
    "    # Train data\n",
    "    elm.train(X_train,y_train)#.reshape(-1,1))\n",
    "\n",
    "    # Make prediction from training process\n",
    "    y_pred = elm.predict(X_test)\n",
    "    y_pred = (y_pred > 0).astype(int)\n",
    "    y_pred=y_pred*2\n",
    "    y_pred=y_pred-1\n",
    "    \n",
    "    #Train Accuracy\n",
    "    y_train_pred= elm.predict(X_train)\n",
    "    y_train_pred = (y_train_pred > 0).astype(int)\n",
    "    y_train_pred=y_train_pred*2\n",
    "    y_train_pred=y_train_pred-1\n",
    "    \n",
    "    errors[0,i]=accuracy_score(y_train, y_train_pred)\n",
    "    errors[1,i]=accuracy_score(y_test, y_pred)\n",
    "    \n",
    "    print(\"Number of Neurons: \", num_neurons[i],' Train Accuracy: ', accuracy_score(y_train, y_train_pred),' Test Accuracy: ', accuracy_score(y_test, y_pred))\n",
    "    "
   ]
  },
  {
   "cell_type": "code",
   "execution_count": 17,
   "id": "6c8e8c4d",
   "metadata": {},
   "outputs": [
    {
     "data": {
      "text/plain": [
       "<matplotlib.legend.Legend at 0x7fc90853c430>"
      ]
     },
     "execution_count": 17,
     "metadata": {},
     "output_type": "execute_result"
    },
    {
     "data": {
      "image/png": "[encoded data removed]",
      "text/plain": [
       "<Figure size 432x288 with 1 Axes>"
      ]
     },
     "metadata": {
      "needs_background": "light"
     },
     "output_type": "display_data"
    }
   ],
   "source": [
    "plt.plot(num_neurons,errors[0],label='train')\n",
    "plt.plot(num_neurons,errors[1],label='test')\n",
    "plt.legend()"
   ]
  },
  {
   "cell_type": "code",
   "execution_count": 18,
   "id": "4f12a64e",
   "metadata": {},
   "outputs": [
    {
     "name": "stdout",
     "output_type": "stream",
     "text": [
      "Train time ELM= 0.5364639759063721 seconds\n",
      "Test time ELM= 0.07064199447631836 seconds\n",
      "Test Split:  0.2  Train Accuracy:  0.918475802804161  Test Accuracy:  0.9041157847127996\n"
     ]
    }
   ],
   "source": [
    "from sklearn import datasets\n",
    "from sklearn.model_selection import train_test_split\n",
    "from sklearn.metrics import accuracy_score\n",
    "import time\n",
    "\n",
    "# Create random classification datasets with 1000 samples\n",
    "test_splits=[0.2]\n",
    "# for i in range(9):\n",
    "#     test_splits[i]=test_splits[i]*0.1\n",
    "#     test_splits[i]=1-test_splits[i]\n",
    "\n",
    "errors=np.zeros((2,len(test_splits)))\n",
    "# Create instance of ELM object with 10 hidden neuron\n",
    "for i in range(len(test_splits)):\n",
    "    elm = ELM(18, 1, 800)\n",
    "\n",
    "    # Train test split 80:20\n",
    "    X_train, X_test, y_train, y_test = train_test_split(df1, l, test_size=test_splits[i])\n",
    "    start_time = time.time()\n",
    "\n",
    "    # Train data\n",
    "    elm.train(X_train,y_train)#.reshape(-1,1))\n",
    "    end_time = time.time()\n",
    "    print (\"Train time ELM= \"+str(end_time - start_time)+\" seconds\")\n",
    "    # Make prediction from training process\n",
    "    start_time = time.time()\n",
    "    y_pred = elm.predict(X_test)\n",
    "    end_time = time.time()\n",
    "    print (\"Test time ELM= \"+str(end_time - start_time)+\" seconds\")\n",
    "    y_pred = (y_pred > 0).astype(int)\n",
    "    y_pred=y_pred*2\n",
    "    y_pred=y_pred-1\n",
    "    \n",
    "    #Train Accuracy\n",
    "    y_train_pred= elm.predict(X_train)\n",
    "    y_train_pred = (y_train_pred > 0).astype(int)\n",
    "    y_train_pred=y_train_pred*2\n",
    "    y_train_pred=y_train_pred-1\n",
    "    \n",
    "    errors[0,i]=accuracy_score(y_train, y_train_pred)\n",
    "    errors[1,i]=accuracy_score(y_test, y_pred)\n",
    "    \n",
    "    print(\"Test Split: \", round(test_splits[i],3),' Train Accuracy: ', accuracy_score(y_train, y_train_pred),' Test Accuracy: ', accuracy_score(y_test, y_pred))\n",
    "    "
   ]
  },
  {
   "cell_type": "code",
   "execution_count": 19,
   "id": "951e6a16",
   "metadata": {},
   "outputs": [
    {
     "data": {
      "text/plain": [
       "<matplotlib.legend.Legend at 0x7fc8d4ef4940>"
      ]
     },
     "execution_count": 19,
     "metadata": {},
     "output_type": "execute_result"
    },
    {
     "data": {
      "image/png": "[encoded data removed]",
      "text/plain": [
       "<Figure size 432x288 with 1 Axes>"
      ]
     },
     "metadata": {
      "needs_background": "light"
     },
     "output_type": "display_data"
    }
   ],
   "source": [
    "plt.plot(test_splits,errors[0],label='train')\n",
    "plt.plot(test_splits,errors[1],label='test')\n",
    "plt.legend()"
   ]
  },
  {
   "cell_type": "code",
   "execution_count": 20,
   "id": "565364c4",
   "metadata": {},
   "outputs": [
    {
     "data": {
      "text/plain": [
       "(2211, 18)"
      ]
     },
     "execution_count": 20,
     "metadata": {},
     "output_type": "execute_result"
    }
   ],
   "source": [
    "X_test.shape"
   ]
  },
  {
   "cell_type": "code",
   "execution_count": 21,
   "id": "af4586b8",
   "metadata": {},
   "outputs": [],
   "source": [
    "from sklearn.ensemble import RandomForestRegressor\n",
    "\n",
    "from sklearn.svm import SVC"
   ]
  },
  {
   "cell_type": "code",
   "execution_count": 22,
   "id": "744fc219",
   "metadata": {},
   "outputs": [
    {
     "name": "stdout",
     "output_type": "stream",
     "text": [
      "Train time RF = 0.8042309284210205 seconds\n",
      "Train time SVM= 1.457448959350586 seconds\n"
     ]
    }
   ],
   "source": [
    "rf = RandomForestRegressor(n_estimators = 100, random_state = 42)\n",
    "start_time = time.time()\n",
    "rf.fit(X_train, y_train)\n",
    "end_time = time.time()\n",
    "print (\"Train time RF = \"+str(end_time - start_time)+\" seconds\")\n",
    "svm = SVC(C=1.0, kernel='rbf')\n",
    "start_time = time.time()\n",
    "svm.fit(X_train, y_train)\n",
    "end_time = time.time()\n",
    "print (\"Train time SVM= \"+str(end_time - start_time)+\" seconds\")\n"
   ]
  },
  {
   "cell_type": "code",
   "execution_count": 23,
   "id": "3b8b1f3d",
   "metadata": {},
   "outputs": [
    {
     "name": "stdout",
     "output_type": "stream",
     "text": [
      "Test time RF = 0.04542207717895508 seconds\n",
      "Random Forest Accuracy:  0.9145183175033921\n",
      "Test time SVM= 0.659168004989624 seconds\n",
      "SVM Accuracy:  0.9041157847127996\n"
     ]
    }
   ],
   "source": [
    "start_time = time.time()\n",
    "y_pred = rf.predict(X_test)\n",
    "end_time = time.time()\n",
    "print (\"Test time RF = \"+str(end_time - start_time)+\" seconds\")\n",
    "y_pred = (y_pred > 0).astype(int)\n",
    "y_pred=y_pred*2\n",
    "y_pred=y_pred-1\n",
    "\n",
    "print('Random Forest Accuracy: ', accuracy_score(y_test, y_pred))\n",
    "start_time = time.time()\n",
    "y_pred = svm.predict(X_test)\n",
    "end_time = time.time()\n",
    "print (\"Test time SVM= \"+str(end_time - start_time)+\" seconds\")\n",
    "y_pred = (y_pred > 0).astype(int)\n",
    "y_pred=y_pred*2\n",
    "y_pred=y_pred-1\n",
    "\n",
    "print('SVM Accuracy: ', accuracy_score(y_test, y_pred))"
   ]
  },
  {
   "cell_type": "code",
   "execution_count": 24,
   "id": "bc004802",
   "metadata": {},
   "outputs": [
    {
     "data": {
      "text/plain": [
       "1"
      ]
     },
     "execution_count": 24,
     "metadata": {},
     "output_type": "execute_result"
    }
   ],
   "source": [
    "y_pred.max()\n",
    "# for i in y_pred:\n",
    "#     print(i)\n",
    "    \n"
   ]
  },
  {
   "cell_type": "code",
   "execution_count": 30,
   "id": "f506f38c",
   "metadata": {},
   "outputs": [
    {
     "name": "stdout",
     "output_type": "stream",
     "text": [
      "Train time ELM= 0.4690821170806885 seconds\n",
      "Test time ELM= 0.04477524757385254 seconds\n",
      "3.341909737687626 -2.284572751458909\n"
     ]
    }
   ],
   "source": [
    "from sklearn import datasets\n",
    "from sklearn.model_selection import train_test_split\n",
    "from sklearn.metrics import accuracy_score\n",
    "import time\n",
    "\n",
    "# Create random classification datasets with 1000 samples\n",
    "test_splits=[0.2]\n",
    "# for i in range(9):\n",
    "#     test_splits[i]=test_splits[i]*0.1\n",
    "#     test_splits[i]=1-test_splits[i]\n",
    "\n",
    "errors=np.zeros((2,len(test_splits)))\n",
    "# Create instance of ELM object with 10 hidden neuron\n",
    "for i in range(len(test_splits)):\n",
    "    elm = ELM(18, 1, 800)\n",
    "\n",
    "    # Train test split 80:20\n",
    "    X_train, X_test, y_train, y_test = train_test_split(df1, l, test_size=test_splits[i])\n",
    "    start_time = time.time()\n",
    "\n",
    "    # Train data\n",
    "    elm.train(X_train,y_train)#.reshape(-1,1))\n",
    "    end_time = time.time()\n",
    "    print (\"Train time ELM= \"+str(end_time - start_time)+\" seconds\")\n",
    "    # Make prediction from training process\n",
    "    start_time = time.time()\n",
    "    y_pred = elm.predict(X_test)\n",
    "    end_time = time.time()\n",
    "    print (\"Test time ELM= \"+str(end_time - start_time)+\" seconds\")\n",
    "    \n",
    "    #Train Accuracy\n",
    "    y_train_pred= elm.predict(X_train)\n",
    "    print(y_pred.max(),y_pred.min())\n",
    "    '''\n",
    "    errors[0,i]=accuracy_score(y_train, y_train_pred)\n",
    "    errors[1,i]=accuracy_score(y_test, y_pred)\n",
    "    \n",
    "    print(\"Test Split: \", round(test_splits[i],3),' Train Accuracy: ', accuracy_score(y_train, y_train_pred),' Test Accuracy: ', accuracy_score(y_test, y_pred))\n",
    "    '''\n",
    "    "
   ]
  },
  {
   "cell_type": "code",
   "execution_count": null,
   "id": "bdbc0a3d",
   "metadata": {},
   "outputs": [],
   "source": []
  }
 ],
 "metadata": {
  "kernelspec": {
   "display_name": "Python 3",
   "language": "python",
   "name": "python3"
  },
  "language_info": {
   "codemirror_mode": {
    "name": "ipython",
    "version": 3
   },
   "file_extension": ".py",
   "mimetype": "text/x-python",
   "name": "python",
   "nbconvert_exporter": "python",
   "pygments_lexer": "ipython3",
   "version": "3.8.8"
  }
 },
 "nbformat": 4,
 "nbformat_minor": 5
}
