{
 "cells": [
  {
   "cell_type": "code",
   "execution_count": 1,
   "id": "248bcf98",
   "metadata": {},
   "outputs": [
    {
     "name": "stdout",
     "output_type": "stream",
     "text": [
      "Requirement already satisfied: python-whois in /Users/meghanakedlaya/opt/anaconda3/lib/python3.8/site-packages (0.7.3)\n",
      "Requirement already satisfied: future in /Users/meghanakedlaya/opt/anaconda3/lib/python3.8/site-packages (from python-whois) (0.18.2)\n",
      "Note: you may need to restart the kernel to use updated packages.\n"
     ]
    }
   ],
   "source": [
    "pip install python-whois\n"
   ]
  },
  {
   "cell_type": "code",
   "execution_count": 2,
   "id": "575d3a0d",
   "metadata": {},
   "outputs": [
    {
     "name": "stdout",
     "output_type": "stream",
     "text": [
      "Requirement already satisfied: futures in /Users/meghanakedlaya/opt/anaconda3/lib/python3.8/site-packages (3.1.1)\n",
      "Note: you may need to restart the kernel to use updated packages.\n"
     ]
    }
   ],
   "source": [
    "pip install futures"
   ]
  },
  {
   "cell_type": "code",
   "execution_count": 3,
   "id": "ee124278",
   "metadata": {},
   "outputs": [],
   "source": [
    "import whois\n",
    "\n"
   ]
  },
  {
   "cell_type": "code",
   "execution_count": 4,
   "id": "4943c86d",
   "metadata": {},
   "outputs": [],
   "source": [
    "def domain_registration(url):\n",
    "    w = whois.whois(url)\n",
    "    updated = w.updated_date\n",
    "    exp = w.expiration_date\n",
    "    length = (exp[0]-updated[0]).days\n",
    "    if(length<=365):\n",
    "        return 1\n",
    "    else:\n",
    "        return -1"
   ]
  },
  {
   "cell_type": "code",
   "execution_count": 5,
   "id": "2cbf2136",
   "metadata": {},
   "outputs": [
    {
     "data": {
      "text/plain": [
       "-1"
      ]
     },
     "execution_count": 5,
     "metadata": {},
     "output_type": "execute_result"
    }
   ],
   "source": [
    "domain_registration(\"www.gooogle.com\")"
   ]
  },
  {
   "cell_type": "code",
   "execution_count": 6,
   "id": "9edba931",
   "metadata": {},
   "outputs": [
    {
     "data": {
      "text/plain": [
       "-1"
      ]
     },
     "execution_count": 6,
     "metadata": {},
     "output_type": "execute_result"
    }
   ],
   "source": [
    "domain_registration(\"www.youtube.com\")"
   ]
  },
  {
   "cell_type": "code",
   "execution_count": 7,
   "id": "98181ac3",
   "metadata": {},
   "outputs": [],
   "source": [
    "import datetime\n",
    "def age_of_domain(url):\n",
    "    w = whois.whois(url)\n",
    "    start_date = w.creation_date\n",
    "    current_date = datetime.datetime.now()\n",
    "    age =(current_date-start_date[0]).days\n",
    "    if(age>=180):\n",
    "        return -1\n",
    "    else:\n",
    "        return 1\n",
    "   "
   ]
  },
  {
   "cell_type": "code",
   "execution_count": 8,
   "id": "9acb386a",
   "metadata": {},
   "outputs": [
    {
     "data": {
      "text/plain": [
       "-1"
      ]
     },
     "execution_count": 8,
     "metadata": {},
     "output_type": "execute_result"
    }
   ],
   "source": [
    "age_of_domain(\"https://www.netflix.com/browse\")"
   ]
  },
  {
   "cell_type": "code",
   "execution_count": 9,
   "id": "b9f1137c",
   "metadata": {},
   "outputs": [
    {
     "name": "stdout",
     "output_type": "stream",
     "text": [
      "Requirement already satisfied: beautifulsoup4 in /Users/meghanakedlaya/opt/anaconda3/lib/python3.8/site-packages (4.9.3)\n",
      "Requirement already satisfied: soupsieve>1.2 in /Users/meghanakedlaya/opt/anaconda3/lib/python3.8/site-packages (from beautifulsoup4) (2.2.1)\n",
      "Note: you may need to restart the kernel to use updated packages.\n"
     ]
    }
   ],
   "source": [
    "pip install beautifulsoup4"
   ]
  },
  {
   "cell_type": "code",
   "execution_count": 10,
   "id": "2c6e9631",
   "metadata": {},
   "outputs": [],
   "source": [
    "from bs4 import BeautifulSoup"
   ]
  },
  {
   "cell_type": "code",
   "execution_count": 11,
   "id": "a3e01d20",
   "metadata": {},
   "outputs": [
    {
     "name": "stdout",
     "output_type": "stream",
     "text": [
      "Requirement already satisfied: urllib3 in /Users/meghanakedlaya/opt/anaconda3/lib/python3.8/site-packages (1.26.4)\n",
      "Note: you may need to restart the kernel to use updated packages.\n"
     ]
    }
   ],
   "source": [
    "pip install urllib3"
   ]
  },
  {
   "cell_type": "code",
   "execution_count": 12,
   "id": "1bb42221",
   "metadata": {},
   "outputs": [],
   "source": [
    "import urllib"
   ]
  },
  {
   "cell_type": "code",
   "execution_count": 13,
   "id": "382bebc8",
   "metadata": {},
   "outputs": [],
   "source": [
    "def Links_in_tags(url):\n",
    "    opener = urllib.request.urlopen(url).read()\n",
    "    soup = BeautifulSoup(opener, 'lxml')\n",
    "    no_of_meta =0\n",
    "    no_of_link =0\n",
    "    no_of_script =0\n",
    "    anchors=0\n",
    "    avg =0\n",
    "    for meta in soup.find_all('meta'):\n",
    "        no_of_meta = no_of_meta+1\n",
    "    for link in soup.find_all('link'):\n",
    "        no_of_link = no_of_link +1\n",
    "    for script in soup.find_all('script'):\n",
    "        no_of_script = no_of_script+1\n",
    "    for anchor in soup.find_all('a'):\n",
    "        anchors = anchors+1\n",
    "    total = no_of_meta + no_of_link + no_of_script+anchors\n",
    "    tags = no_of_meta + no_of_link + no_of_script\n",
    "    if(total!=0):\n",
    "        avg = tags/total\n",
    "    if(avg<0.25):\n",
    "        return -1\n",
    "    elif(0.25<=avg<=0.81):\n",
    "        return 0\n",
    "    else:\n",
    "        return 1        \n",
    "\n"
   ]
  },
  {
   "cell_type": "code",
   "execution_count": 14,
   "id": "1b2f817e",
   "metadata": {},
   "outputs": [
    {
     "data": {
      "text/plain": [
       "1"
      ]
     },
     "execution_count": 14,
     "metadata": {},
     "output_type": "execute_result"
    }
   ],
   "source": [
    "Links_in_tags(\"https://www.primevideo.com/\")"
   ]
  },
  {
   "cell_type": "code",
   "execution_count": null,
   "id": "d7da0e6b",
   "metadata": {},
   "outputs": [],
   "source": []
  }
 ],
 "metadata": {
  "kernelspec": {
   "display_name": "Python 3",
   "language": "python",
   "name": "python3"
  },
  "language_info": {
   "codemirror_mode": {
    "name": "ipython",
    "version": 3
   },
   "file_extension": ".py",
   "mimetype": "text/x-python",
   "name": "python",
   "nbconvert_exporter": "python",
   "pygments_lexer": "ipython3",
   "version": "3.8.8"
  }
 },
 "nbformat": 4,
 "nbformat_minor": 5
}
