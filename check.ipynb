{
 "cells": [
  {
   "cell_type": "code",
   "execution_count": 14,
   "id": "fee907e8",
   "metadata": {},
   "outputs": [],
   "source": [
    "import pandas as pd\n",
    "df=pd.read_csv('data.csv')\n",
    "df.drop('id',\n",
    "axis='columns', inplace=True)"
   ]
  },
  {
   "cell_type": "code",
   "execution_count": 15,
   "id": "a1eca6ae",
   "metadata": {},
   "outputs": [],
   "source": [
    "import numpy as np\n",
    "class ELM(object):  \n",
    "    \n",
    "    def __init__(self, inputSize, outputSize, hiddenSize):\n",
    "        \"\"\"\n",
    "        Initialize weight and bias between input layer and hidden layer\n",
    "        Parameters:\n",
    "        inputSize: int\n",
    "            The number of input layer dimensions or features in the training data\n",
    "        outputSize: int\n",
    "            The number of output layer dimensions\n",
    "        hiddenSize: int\n",
    "            The number of hidden layer dimensions        \n",
    "        \"\"\"    \n",
    "\n",
    "        self.inputSize = inputSize\n",
    "        self.outputSize = outputSize\n",
    "        self.hiddenSize = hiddenSize       \n",
    "        \n",
    "        # Initialize random weight with range [-0.5, 0.5]\n",
    "        self.weight = np.matrix(np.random.uniform(-0.5, 0.5, (self.hiddenSize, self.inputSize)))\n",
    "\n",
    "        # Initialize random bias with range [0, 1]\n",
    "        self.bias = np.matrix(np.random.uniform(0, 1, (1, self.hiddenSize)))\n",
    "        \n",
    "        self.H = 0\n",
    "        self.beta = 0\n",
    "\n",
    "    def sigmoid(self, x):\n",
    "        \"\"\"\n",
    "        Sigmoid activation function\n",
    "        \n",
    "        Parameters:\n",
    "        x: array-like or matrix\n",
    "            The value that the activation output will look for\n",
    "        Returns:      \n",
    "            The results of activation using sigmoid function\n",
    "        \"\"\"\n",
    "        return 1 / (1 + np.exp(-1 * x))\n",
    "\n",
    "    def predict(self, X):\n",
    "        \"\"\"\n",
    "        Predict the results of the training process using test data\n",
    "        Parameters:\n",
    "        X: array-like or matrix\n",
    "            Test data that will be used to determine output using ELM\n",
    "        Returns:\n",
    "            Predicted results or outputs from test data\n",
    "        \"\"\"\n",
    "        X = np.matrix(X)\n",
    "        y = self.sigmoid((X * self.weight.T) + self.bias) * self.beta\n",
    "\n",
    "        return y\n",
    "\n",
    "    def train(self, X, y):\n",
    "        \"\"\"\n",
    "        Extreme Learning Machine training process\n",
    "        Parameters:\n",
    "        X: array-like or matrix\n",
    "            Training data that contains the value of each feature\n",
    "        y: array-like or matrix\n",
    "            Training data that contains the value of the target (class)\n",
    "        Returns:\n",
    "            The results of the training process   \n",
    "        \"\"\"\n",
    "        X = np.matrix(X)\n",
    "        y = np.matrix(y).reshape(-1,1) \n",
    "        # Calculate hidden layer output matrix (Hinit)\n",
    "        self.H = (X * self.weight.T) + self.bias\n",
    "\n",
    "        # Sigmoid activation function\n",
    "        self.H = self.sigmoid(self.H)\n",
    "\n",
    "        # Calculate the Moore-Penrose pseudoinverse matriks        \n",
    "        H_moore_penrose = np.linalg.inv(self.H.T * self.H) * self.H.T\n",
    "\n",
    "        # Calculate the output weight matrix beta\n",
    "        self.beta = H_moore_penrose * y\n",
    "\n",
    "        return self.H * self.beta"
   ]
  },
  {
   "cell_type": "code",
   "execution_count": 16,
   "id": "cf2e9a02",
   "metadata": {},
   "outputs": [],
   "source": [
    "from sklearn import datasets\n",
    "from sklearn.model_selection import train_test_split\n",
    "from sklearn.metrics import accuracy_score\n"
   ]
  },
  {
   "cell_type": "code",
   "execution_count": 17,
   "id": "441ca701",
   "metadata": {},
   "outputs": [],
   "source": [
    "k=df['Result']\n",
    "df1=df\n",
    "df1.drop('Result',\n",
    "axis='columns', inplace=True)"
   ]
  },
  {
   "cell_type": "code",
   "execution_count": 81,
   "id": "5ed5a5f4",
   "metadata": {},
   "outputs": [
    {
     "name": "stdout",
     "output_type": "stream",
     "text": [
      "Accuracy:  0.46835443037974683\n"
     ]
    }
   ],
   "source": [
    "\n",
    "\n",
    "# Create random classification datasets with 1000 samples\n",
    "\n",
    "# Create instance of ELM object with 10 hidden neuron\n",
    "elm = ELM(30, 1, 2500)\n",
    "\n",
    "# Train test split 80:20\n",
    "X_train, X_test, y_train, y_test = train_test_split(df1, k, test_size=0.1)\n",
    "\n",
    "# Train data\n",
    "elm.train(X_train,y_train)#.reshape(-1,1))\n",
    "\n",
    "# Make prediction from training process\n",
    "y_pred = elm.predict(X_test)\n",
    "y_pred = (y_pred > 0.5).astype(int)\n",
    "\n",
    "print('Accuracy: ', accuracy_score(y_test, y_pred))"
   ]
  },
  {
   "cell_type": "code",
   "execution_count": null,
   "id": "37f5b320",
   "metadata": {},
   "outputs": [],
   "source": []
  },
  {
   "cell_type": "code",
   "execution_count": null,
   "id": "eb20cd03",
   "metadata": {},
   "outputs": [],
   "source": []
  }
 ],
 "metadata": {
  "kernelspec": {
   "display_name": "Python 3",
   "language": "python",
   "name": "python3"
  },
  "language_info": {
   "codemirror_mode": {
    "name": "ipython",
    "version": 3
   },
   "file_extension": ".py",
   "mimetype": "text/x-python",
   "name": "python",
   "nbconvert_exporter": "python",
   "pygments_lexer": "ipython3",
   "version": "3.8.8"
  }
 },
 "nbformat": 4,
 "nbformat_minor": 5
}
